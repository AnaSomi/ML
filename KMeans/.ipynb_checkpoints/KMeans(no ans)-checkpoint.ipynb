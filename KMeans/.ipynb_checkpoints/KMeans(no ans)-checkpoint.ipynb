{
 "cells": [
  {
   "cell_type": "code",
   "execution_count": 1,
   "metadata": {},
   "outputs": [],
   "source": [
    "import pandas as pd\n",
    "import numpy as np\n",
    "import seaborn as sns\n",
    "import matplotlib.pyplot as plt\n",
    "\n",
    "%matplotlib inline\n",
    "\n",
    "sns.set(style=\"darkgrid\")"
   ]
  },
  {
   "cell_type": "markdown",
   "metadata": {},
   "source": [
    "# Kmeans"
   ]
  },
  {
   "cell_type": "markdown",
   "metadata": {},
   "source": [
    "Реализуйте класс Kmeans"
   ]
  },
  {
   "cell_type": "markdown",
   "metadata": {},
   "source": [
    "Реализуйте класс Kmeans\n",
    "\n",
    "Алгоритм оптимизиет внутриклассовое расстояние, где в качестве функции расстояния используется квадрат евклидовой метрики.\n",
    "\n",
    "$$\\sum_{k = 1}^{K}\\sum_{i = 1}^{\\ell}[a(x_i) = k](x_i - c_k)^2, K - \\text{кол-во классов}$$\n",
    "\n",
    "Для начала инициализируем центры классов или рандомными объектами или специальным подбором.\n",
    "\n",
    "Считаем в какие классы попадают объекты по формуле:\n",
    "$$ a(x_i) = argmin_{1 \\leq k \\leq K}(x_i - c_k)^2 $$\n",
    "\n",
    "Затем пересчитываем центры классов:\n",
    "\n",
    "$$c_k = \\frac{\\sum_{i = 1}^{\\ell}[a(x_i) = k] x_i}{\\sum_{i = 1}^{\\ell} [a(x_i) = k]}$$\n",
    "\n",
    "Если центры не поменялись, значит мы нашли оптимальные центры классов"
   ]
  },
  {
   "cell_type": "markdown",
   "metadata": {},
   "source": [
    "**Инициализация**:\n",
    "\n",
    "* Рандомными объектами\n",
    "* Певыми K объектами\n",
    "* k-means++. Выбераем один рандомный центр. Затем находим расстояние от всех точек до ближайщего центра. Добавляем, в качестве нового центра, объект с самым большим расстоянием до ближайщего центра."
   ]
  },
  {
   "cell_type": "markdown",
   "metadata": {},
   "source": [
    "Протестируйте на\n",
    "* make_moons() с noise от 0 до 0.2\n",
    "* make_blobs() с cluster_std от 0.05 до 2\n",
    "* make_circles() с noise от 0 до 1\n",
    "\n",
    "Постройте графики точек + центры кластеров"
   ]
  },
  {
   "cell_type": "code",
   "execution_count": null,
   "metadata": {},
   "outputs": [],
   "source": []
  },
  {
   "cell_type": "markdown",
   "metadata": {},
   "source": [
    "Сравните с sklearn.cluster.KMeans"
   ]
  },
  {
   "cell_type": "code",
   "execution_count": null,
   "metadata": {},
   "outputs": [],
   "source": []
  },
  {
   "cell_type": "markdown",
   "metadata": {},
   "source": [
    "Сравните рандомную инцилизацию, инцилизацию первыми n_clusters и k_means++\n",
    "\n",
    "Сделайте вывод"
   ]
  },
  {
   "cell_type": "code",
   "execution_count": null,
   "metadata": {},
   "outputs": [],
   "source": []
  },
  {
   "cell_type": "code",
   "execution_count": null,
   "metadata": {},
   "outputs": [],
   "source": []
  },
  {
   "cell_type": "markdown",
   "metadata": {},
   "source": [
    "__Вывод__ :"
   ]
  },
  {
   "cell_type": "markdown",
   "metadata": {},
   "source": [
    "# BisectingKMeans, MiniBatchKMeans"
   ]
  },
  {
   "cell_type": "markdown",
   "metadata": {},
   "source": [
    "Протестируйте на\n",
    "* make_moons() с noise от 0 до 0.2\n",
    "* make_blobs() с cluster_std от 0.05 до 2\n",
    "* make_circles() с noise от 0 до 1\n",
    "\n",
    "Постройте графики точек + центры кластеров"
   ]
  },
  {
   "cell_type": "markdown",
   "metadata": {},
   "source": [
    "**BisectingKMeans**\n",
    "\n",
    "1. Сначала все данные это один класс\n",
    "2. Затем делим на 2 класса, используя KMenas(2)\n",
    "3. Считаем сумму квадратов евклидовых расстоянии до центра $\\sum_{l=1}^{\\ell}(X_i - C_k)^2$\n",
    "4. Находим расстояние с самым большой суммой и повторяем 2-3"
   ]
  },
  {
   "cell_type": "markdown",
   "metadata": {},
   "source": [
    "**MiniBatchKMeans**\n",
    "1. Инициализируем центры\n",
    "2. Выбираем рандомно m объектов\n",
    "3. Находим классы этих объектов\n",
    "4. Обновляем центры по формуле\n",
    "$$ count_{id\\_class} += 1$$\n",
    "$$center_{id\\_class} = (1 - 1/count_{id_class}) * center_{id\\_class} +  1/count_{id\\_class} * x_i$$\n",
    "Повторяем 3-4 шаги несколько раз"
   ]
  },
  {
   "cell_type": "code",
   "execution_count": null,
   "metadata": {},
   "outputs": [],
   "source": []
  },
  {
   "cell_type": "code",
   "execution_count": null,
   "metadata": {},
   "outputs": [],
   "source": []
  },
  {
   "cell_type": "markdown",
   "metadata": {},
   "source": [
    "Сравните время работы, точность с KMeans"
   ]
  },
  {
   "cell_type": "code",
   "execution_count": 1,
   "metadata": {
    "scrolled": false
   },
   "outputs": [
    {
     "name": "stderr",
     "output_type": "stream",
     "text": [
      "UsageError: %%time is a cell magic, but the cell body is empty. Did you mean the line magic %time (single %)?\n"
     ]
    }
   ],
   "source": [
    "%%time"
   ]
  },
  {
   "cell_type": "code",
   "execution_count": 2,
   "metadata": {},
   "outputs": [
    {
     "name": "stderr",
     "output_type": "stream",
     "text": [
      "UsageError: %%time is a cell magic, but the cell body is empty. Did you mean the line magic %time (single %)?\n"
     ]
    }
   ],
   "source": [
    "%%time"
   ]
  },
  {
   "cell_type": "code",
   "execution_count": null,
   "metadata": {},
   "outputs": [],
   "source": []
  },
  {
   "cell_type": "code",
   "execution_count": null,
   "metadata": {},
   "outputs": [],
   "source": []
  }
 ],
 "metadata": {
  "kernelspec": {
   "display_name": "Python 3",
   "language": "python",
   "name": "python3"
  },
  "language_info": {
   "codemirror_mode": {
    "name": "ipython",
    "version": 3
   },
   "file_extension": ".py",
   "mimetype": "text/x-python",
   "name": "python",
   "nbconvert_exporter": "python",
   "pygments_lexer": "ipython3",
   "version": "3.7.3"
  }
 },
 "nbformat": 4,
 "nbformat_minor": 2
}
